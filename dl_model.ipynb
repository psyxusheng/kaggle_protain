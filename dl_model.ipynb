{
 "cells": [
  {
   "cell_type": "code",
   "execution_count": 1,
   "metadata": {},
   "outputs": [],
   "source": [
    "import torch \n",
    "from torch import nn\n",
    "from torch.nn import functional as F\n",
    "import numpy as np\n",
    "import pandas as pd\n",
    "from vocab import Vocab\n",
    "from dataprocessor import DataProcessor"
   ]
  },
  {
   "cell_type": "code",
   "execution_count": 3,
   "metadata": {},
   "outputs": [
    {
     "name": "stdout",
     "output_type": "stream",
     "text": [
      "tensor([[17,  5,  1,  ...,  0,  0,  0],\n",
      "        [ 4,  6, 12,  ...,  0,  0,  0],\n",
      "        [17,  2,  3,  ...,  0,  0,  0],\n",
      "        ...,\n",
      "        [17, 10,  4,  ...,  0,  0,  0],\n",
      "        [ 5,  1,  4,  ...,  0,  0,  0],\n",
      "        [17, 14, 10,  ...,  0,  0,  0]])\n",
      "torch.Size([10, 575])\n",
      "tensor([37.0000, 52.3000, 34.5000, 88.8000, 47.7000, 53.0000, 39.9000, 15.0000,\n",
      "        44.3000, 49.8000])\n"
     ]
    }
   ],
   "source": [
    "def get_data(filename):\n",
    "    data = pd.read_csv(filename)\n",
    "    return data['protein_sequence'].values , data['tm'].values \n",
    "\n",
    "trainx,trainy = get_data('./data/train_fixed.csv')\n",
    "vocab = Vocab()\n",
    "vocab.from_file()\n",
    "\n",
    "\n",
    "dp = DataProcessor(vocab,trainx,trainy)\n",
    "x,y = dp.sample(10)\n",
    "print(x)\n",
    "print(x.shape)\n",
    "print(y)"
   ]
  },
  {
   "cell_type": "code",
   "execution_count": null,
   "metadata": {},
   "outputs": [],
   "source": [
    "model = ConvProtein([21,32])\n",
    "\n",
    "inputs = torch.randint(1,21,size=[13,60,60])\n",
    "\n",
    "out = model(inputs)\n",
    "\n",
    "print(out)"
   ]
  },
  {
   "cell_type": "code",
   "execution_count": null,
   "metadata": {},
   "outputs": [],
   "source": []
  }
 ],
 "metadata": {
  "kernelspec": {
   "display_name": "base",
   "language": "python",
   "name": "python3"
  },
  "language_info": {
   "codemirror_mode": {
    "name": "ipython",
    "version": 3
   },
   "file_extension": ".py",
   "mimetype": "text/x-python",
   "name": "python",
   "nbconvert_exporter": "python",
   "pygments_lexer": "ipython3",
   "version": "3.7.13"
  },
  "orig_nbformat": 4,
  "vscode": {
   "interpreter": {
    "hash": "3d597f4c481aa0f25dceb95d2a0067e73c0966dcbd003d741d821a7208527ecf"
   }
  }
 },
 "nbformat": 4,
 "nbformat_minor": 2
}
