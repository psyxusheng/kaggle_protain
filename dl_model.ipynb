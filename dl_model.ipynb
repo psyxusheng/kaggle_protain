{
 "cells": [
  {
   "cell_type": "code",
   "execution_count": null,
   "metadata": {},
   "outputs": [],
   "source": [
    "import torch \n",
    "from torch import nn\n",
    "from torch.nn import functional as F\n",
    "import numpy as np\n",
    "import pandas as pd\n",
    "from vocab import Vocab\n",
    "from dataprocessor import DataProcessor\n",
    "from conv_model import ConvProtein\n",
    "from utils import *\n",
    "from tqdm import trange"
   ]
  },
  {
   "cell_type": "code",
   "execution_count": null,
   "metadata": {},
   "outputs": [],
   "source": [
    "def get_data(filename):\n",
    "    data = pd.read_csv(filename)\n",
    "    return data['protein_sequence'].values , data['tm'].values \n",
    "\n",
    "trainx,trainy = get_data('./data/train_fixed.csv')\n",
    "vocab = Vocab()\n",
    "vocab.from_file()\n",
    "\n",
    "vectors = load_ptvectors('./vectors.npy')\n",
    "datafeeder = DataProcessor(vocab , trainx,trainy)\n"
   ]
  },
  {
   "cell_type": "code",
   "execution_count": null,
   "metadata": {},
   "outputs": [],
   "source": [
    "model = ConvProtein(vectors,lr=1e-4)\n",
    "\n",
    "\n",
    "for i in trange(1000):\n",
    "    x,y = datafeeder.sample(100)\n",
    "    model.train(x,y)"
   ]
  }
 ],
 "metadata": {
  "kernelspec": {
   "display_name": "base",
   "language": "python",
   "name": "python3"
  },
  "language_info": {
   "codemirror_mode": {
    "name": "ipython",
    "version": 3
   },
   "file_extension": ".py",
   "mimetype": "text/x-python",
   "name": "python",
   "nbconvert_exporter": "python",
   "pygments_lexer": "ipython3",
   "version": "3.7.13"
  },
  "orig_nbformat": 4,
  "vscode": {
   "interpreter": {
    "hash": "3d597f4c481aa0f25dceb95d2a0067e73c0966dcbd003d741d821a7208527ecf"
   }
  }
 },
 "nbformat": 4,
 "nbformat_minor": 2
}
