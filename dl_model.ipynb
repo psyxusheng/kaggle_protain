{
 "cells": [
  {
   "cell_type": "code",
   "execution_count": 1,
   "metadata": {},
   "outputs": [],
   "source": [
    "import torch \n",
    "from torch import nn\n",
    "from torch.nn import functional as F\n",
    "import numpy as np\n",
    "import pandas as pd\n",
    "from vocab import Vocab\n",
    "from dataprocessor import DataProcessor\n",
    "from conv_model import ConvProtein\n",
    "from utils import *\n",
    "from tqdm import trange\n",
    "from sklearn.model_selection import train_test_split\n",
    "from sklearn.metrics import mean_squared_error"
   ]
  },
  {
   "cell_type": "code",
   "execution_count": 2,
   "metadata": {},
   "outputs": [],
   "source": [
    "def get_data(filename):\n",
    "    data = pd.read_csv(filename)\n",
    "    return data['protein_sequence'].values , data['tm'].values \n",
    "\n",
    "x,y = get_data('./data/train_fixed.csv')\n",
    "\n",
    "min_v,max_v = min(y),max(y)\n",
    "\n",
    "trainx,testx,trainy ,testy = train_test_split(x,y,test_size=0.2)\n",
    "\n",
    "vocab = Vocab()\n",
    "vocab.from_file()\n",
    "\n",
    "vectors = load_ptvectors('./vectors.npy')\n",
    "\n",
    "train_datafeeder = DataProcessor(vocab , trainx,trainy, [min_v,max_v])\n",
    "test_datafeeder  = DataProcessor(vocab , testx,testy, [min_v,max_v])"
   ]
  },
  {
   "cell_type": "code",
   "execution_count": 3,
   "metadata": {},
   "outputs": [
    {
     "name": "stderr",
     "output_type": "stream",
     "text": [
      "  0%|          | 1/1000 [00:06<1:41:45,  6.11s/it]"
     ]
    },
    {
     "name": "stdout",
     "output_type": "stream",
     "text": [
      "correlation on test dataset is  0.009639192364105927\n"
     ]
    },
    {
     "name": "stderr",
     "output_type": "stream",
     "text": [
      " 10%|█         | 100/1000 [02:21<20:52,  1.39s/it]"
     ]
    },
    {
     "name": "stdout",
     "output_type": "stream",
     "text": [
      "   100--0.056\n"
     ]
    },
    {
     "name": "stderr",
     "output_type": "stream",
     "text": [
      " 10%|█         | 101/1000 [02:27<40:46,  2.72s/it]"
     ]
    },
    {
     "name": "stdout",
     "output_type": "stream",
     "text": [
      "correlation on test dataset is  0.09695485016915464\n"
     ]
    },
    {
     "name": "stderr",
     "output_type": "stream",
     "text": [
      " 20%|██        | 200/1000 [04:41<18:08,  1.36s/it]"
     ]
    },
    {
     "name": "stdout",
     "output_type": "stream",
     "text": [
      "   200--0.032\n"
     ]
    },
    {
     "name": "stderr",
     "output_type": "stream",
     "text": [
      " 20%|██        | 201/1000 [04:47<36:03,  2.71s/it]"
     ]
    },
    {
     "name": "stdout",
     "output_type": "stream",
     "text": [
      "correlation on test dataset is  0.5058574103441116\n"
     ]
    },
    {
     "name": "stderr",
     "output_type": "stream",
     "text": [
      " 30%|███       | 300/1000 [07:03<17:07,  1.47s/it]"
     ]
    },
    {
     "name": "stdout",
     "output_type": "stream",
     "text": [
      "   300--0.036\n"
     ]
    },
    {
     "name": "stderr",
     "output_type": "stream",
     "text": [
      " 30%|███       | 301/1000 [07:09<33:51,  2.91s/it]"
     ]
    },
    {
     "name": "stdout",
     "output_type": "stream",
     "text": [
      "correlation on test dataset is  0.5828308433172184\n"
     ]
    },
    {
     "name": "stderr",
     "output_type": "stream",
     "text": [
      " 40%|████      | 400/1000 [09:26<13:26,  1.34s/it]"
     ]
    },
    {
     "name": "stdout",
     "output_type": "stream",
     "text": [
      "   400--0.039\n"
     ]
    },
    {
     "name": "stderr",
     "output_type": "stream",
     "text": [
      " 40%|████      | 401/1000 [09:32<26:39,  2.67s/it]"
     ]
    },
    {
     "name": "stdout",
     "output_type": "stream",
     "text": [
      "correlation on test dataset is  0.6283654854511584\n"
     ]
    },
    {
     "name": "stderr",
     "output_type": "stream",
     "text": [
      " 46%|████▌     | 456/1000 [10:54<15:21,  1.69s/it]"
     ]
    }
   ],
   "source": [
    "model = ConvProtein(vectors,lr=1e-4)\n",
    "\n",
    "\n",
    "for i in trange(1000):\n",
    "    x,y = train_datafeeder.sample(100)\n",
    "    model.updates(x,y)\n",
    "    if i% 100 == 0:\n",
    "        predictions , trues = [] , []\n",
    "        for testx,testy in test_datafeeder.export(10 , 100):\n",
    "            preds = model.predicts(testx)\n",
    "            predictions.extend(preds)\n",
    "            trues.extend(testy)\n",
    "        perf = np.corrcoef(predictions,trues)[0,1]\n",
    "        print('correlation on test dataset is ',perf)\n"
   ]
  },
  {
   "cell_type": "code",
   "execution_count": null,
   "metadata": {},
   "outputs": [],
   "source": []
  }
 ],
 "metadata": {
  "kernelspec": {
   "display_name": "base",
   "language": "python",
   "name": "python3"
  },
  "language_info": {
   "codemirror_mode": {
    "name": "ipython",
    "version": 3
   },
   "file_extension": ".py",
   "mimetype": "text/x-python",
   "name": "python",
   "nbconvert_exporter": "python",
   "pygments_lexer": "ipython3",
   "version": "3.7.13"
  },
  "orig_nbformat": 4,
  "vscode": {
   "interpreter": {
    "hash": "3d597f4c481aa0f25dceb95d2a0067e73c0966dcbd003d741d821a7208527ecf"
   }
  }
 },
 "nbformat": 4,
 "nbformat_minor": 2
}
