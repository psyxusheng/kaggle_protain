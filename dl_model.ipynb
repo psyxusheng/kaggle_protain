{
 "cells": [
  {
   "cell_type": "code",
   "execution_count": 1,
   "metadata": {},
   "outputs": [],
   "source": [
    "import torch \n",
    "from torch import nn\n",
    "from torch.nn import functional as F\n",
    "import numpy as np\n",
    "import pandas as pd\n",
    "from vocab import Vocab\n",
    "from dataprocessor import DataProcessor\n",
    "from conv_model import ConvProtein"
   ]
  },
  {
   "cell_type": "code",
   "execution_count": 2,
   "metadata": {},
   "outputs": [
    {
     "name": "stdout",
     "output_type": "stream",
     "text": [
      "tensor([[[[17.,  1.,  7.,  ...,  2., 18., 11.],\n",
      "          [ 1.,  2.,  4.,  ...,  0.,  0.,  0.],\n",
      "          [ 0.,  0.,  0.,  ...,  0.,  0.,  0.],\n",
      "          ...,\n",
      "          [ 0.,  0.,  0.,  ...,  0.,  0.,  0.],\n",
      "          [ 0.,  0.,  0.,  ...,  0.,  0.,  0.],\n",
      "          [ 0.,  0.,  0.,  ...,  0.,  0.,  0.]]],\n",
      "\n",
      "\n",
      "        [[[17.,  3.,  3.,  ..., 12.,  5., 12.],\n",
      "          [ 8.,  3.,  2.,  ...,  9.,  2.,  7.],\n",
      "          [ 4.,  6.,  9.,  ..., 18., 18.,  3.],\n",
      "          ...,\n",
      "          [ 0.,  0.,  0.,  ...,  0.,  0.,  0.],\n",
      "          [ 0.,  0.,  0.,  ...,  0.,  0.,  0.],\n",
      "          [ 0.,  0.,  0.,  ...,  0.,  0.,  0.]]],\n",
      "\n",
      "\n",
      "        [[[17.,  2.,  4.,  ...,  5.,  1.,  8.],\n",
      "          [12., 16., 14.,  ...,  9., 18., 16.],\n",
      "          [ 7.,  1.,  6.,  ...,  0.,  0.,  0.],\n",
      "          ...,\n",
      "          [ 0.,  0.,  0.,  ...,  0.,  0.,  0.],\n",
      "          [ 0.,  0.,  0.,  ...,  0.,  0.,  0.],\n",
      "          [ 0.,  0.,  0.,  ...,  0.,  0.,  0.]]],\n",
      "\n",
      "\n",
      "        ...,\n",
      "\n",
      "\n",
      "        [[[17.,  2.,  4.,  ...,  5., 11., 18.],\n",
      "          [19., 13.,  6.,  ..., 18., 11.,  6.],\n",
      "          [ 1.,  3., 18.,  ..., 15.,  7.,  1.],\n",
      "          ...,\n",
      "          [ 0.,  0.,  0.,  ...,  0.,  0.,  0.],\n",
      "          [ 0.,  0.,  0.,  ...,  0.,  0.,  0.],\n",
      "          [ 0.,  0.,  0.,  ...,  0.,  0.,  0.]]],\n",
      "\n",
      "\n",
      "        [[[17.,  2.,  6.,  ...,  1.,  2.,  3.],\n",
      "          [18., 10., 14.,  ...,  2.,  2.,  4.],\n",
      "          [11.,  2., 16.,  ...,  8., 10., 12.],\n",
      "          ...,\n",
      "          [ 0.,  0.,  0.,  ...,  0.,  0.,  0.],\n",
      "          [ 0.,  0.,  0.,  ...,  0.,  0.,  0.],\n",
      "          [ 0.,  0.,  0.,  ...,  0.,  0.,  0.]]],\n",
      "\n",
      "\n",
      "        [[[17.,  7.,  2.,  ...,  6.,  8.,  9.],\n",
      "          [ 6., 16.,  6.,  ...,  0.,  0.,  0.],\n",
      "          [ 0.,  0.,  0.,  ...,  0.,  0.,  0.],\n",
      "          ...,\n",
      "          [ 0.,  0.,  0.,  ...,  0.,  0.,  0.],\n",
      "          [ 0.,  0.,  0.,  ...,  0.,  0.,  0.],\n",
      "          [ 0.,  0.,  0.,  ...,  0.,  0.,  0.]]]])\n",
      "torch.Size([10, 1, 60, 60])\n",
      "tensor([56.8000, 25.0000, 56.0000,  5.0000, 66.1000, 84.8000, 79.4000, 48.1000,\n",
      "        41.6000, 47.8000])\n"
     ]
    }
   ],
   "source": [
    "def get_data(filename):\n",
    "    data = pd.read_csv(filename)\n",
    "    return data['protein_sequence'].values , data['tm'].values \n",
    "\n",
    "trainx,trainy = get_data('./data/train_fixed.csv')\n",
    "vocab = Vocab()\n",
    "vocab.from_file()\n",
    "\n",
    "\n"
   ]
  },
  {
   "cell_type": "code",
   "execution_count": null,
   "metadata": {},
   "outputs": [],
   "source": [
    "model = ConvProtein([21,32])\n",
    "\n",
    "inputs = torch.randint(1,21,size=[13,60,60])\n",
    "\n",
    "out = model(inputs)\n",
    "\n",
    "print(out)"
   ]
  },
  {
   "cell_type": "code",
   "execution_count": null,
   "metadata": {},
   "outputs": [],
   "source": []
  }
 ],
 "metadata": {
  "kernelspec": {
   "display_name": "base",
   "language": "python",
   "name": "python3"
  },
  "language_info": {
   "codemirror_mode": {
    "name": "ipython",
    "version": 3
   },
   "file_extension": ".py",
   "mimetype": "text/x-python",
   "name": "python",
   "nbconvert_exporter": "python",
   "pygments_lexer": "ipython3",
   "version": "3.7.13 (default, Oct 18 2022, 13:40:53) \n[Clang 12.0.0 ]"
  },
  "orig_nbformat": 4,
  "vscode": {
   "interpreter": {
    "hash": "3d597f4c481aa0f25dceb95d2a0067e73c0966dcbd003d741d821a7208527ecf"
   }
  }
 },
 "nbformat": 4,
 "nbformat_minor": 2
}
