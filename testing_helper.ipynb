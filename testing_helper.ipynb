{
 "cells": [
  {
   "cell_type": "code",
   "execution_count": null,
   "metadata": {},
   "outputs": [],
   "source": [
    "from conv_model import ConvProtein\n",
    "from vocab import Vocab\n",
    "from dataprocessor import *\n",
    "from utils import *\n",
    "import pandas as pd"
   ]
  },
  {
   "cell_type": "code",
   "execution_count": null,
   "metadata": {},
   "outputs": [],
   "source": [
    "model = ConvProtein([21,32],[32,64,128,256,512],use_cuda = False)\n",
    "model.load('./ckpt.21-32-32_64_128_256_512-100.pkl')"
   ]
  },
  {
   "cell_type": "code",
   "execution_count": null,
   "metadata": {},
   "outputs": [],
   "source": [
    "x,y = get_data('./data/train_fixed.csv')\n",
    "min_v,max_v = min(y),max(y)\n",
    "\n",
    "def upscale(v , min_v, max_v):\n",
    "    return ((v+1) / 2) * (max_v - min_v) + min_v\n",
    "\n",
    "vocab = Vocab()\n",
    "vocab.from_file()\n",
    "\n",
    "test_data = pd.read_csv('./data/test.csv')\n",
    "\n",
    "seq_ids   = test_data['seq_id'].values.tolist()\n",
    "sequences = test_data['protein_sequence'].values.tolist()"
   ]
  },
  {
   "cell_type": "code",
   "execution_count": null,
   "metadata": {},
   "outputs": [],
   "source": [
    "tms =[]\n",
    "for batch in export_sequences(sequences,vocab,shape=[60,60]):\n",
    "    out = model.predicts(batch)\n",
    "    preds = [upscale(v,min_v,max_v) for v in out]\n",
    "    tms.extend(preds)"
   ]
  },
  {
   "cell_type": "code",
   "execution_count": 9,
   "metadata": {},
   "outputs": [],
   "source": [
    "data = pd.DataFrame(columns = ['seq_id','tm'])\n",
    "data['seq_id'] = seq_ids\n",
    "data['tm_p'] = tms\n",
    "\n",
    "target = pd.read_csv('./data/sample_submission.csv')\n",
    "target = target.merge(data,on='seq_id')\n",
    "\n",
    "target.to_csv('submission.csv')"
   ]
  }
 ],
 "metadata": {
  "kernelspec": {
   "display_name": "base",
   "language": "python",
   "name": "python3"
  },
  "language_info": {
   "codemirror_mode": {
    "name": "ipython",
    "version": 3
   },
   "file_extension": ".py",
   "mimetype": "text/x-python",
   "name": "python",
   "nbconvert_exporter": "python",
   "pygments_lexer": "ipython3",
   "version": "3.7.13"
  },
  "orig_nbformat": 4,
  "vscode": {
   "interpreter": {
    "hash": "3d597f4c481aa0f25dceb95d2a0067e73c0966dcbd003d741d821a7208527ecf"
   }
  }
 },
 "nbformat": 4,
 "nbformat_minor": 2
}
