{
 "cells": [
  {
   "cell_type": "code",
   "execution_count": null,
   "metadata": {},
   "outputs": [],
   "source": [
    "import torch \n",
    "from torch import nn\n",
    "from torch.nn import functional as F\n",
    "import numpy as np\n",
    "import pandas as pd\n",
    "from vocab import Vocab\n",
    "from dataprocessor import DataProcessor\n",
    "from conv_model import ConvProtein\n",
    "from utils import *\n",
    "from tqdm import trange\n",
    "from sklearn.model_selection import train_test_split\n",
    "from sklearn.metrics import mean_squared_error"
   ]
  },
  {
   "cell_type": "code",
   "execution_count": null,
   "metadata": {},
   "outputs": [],
   "source": [
    "x,y = get_data('./data/train_fixed.csv')\n",
    "\n",
    "min_v,max_v = min(y),max(y)\n",
    "\n",
    "trainx,testx,trainy ,testy = train_test_split(x,y,test_size=0.2)\n",
    "\n",
    "vocab = Vocab()\n",
    "vocab.from_file()\n",
    "\n",
    "vectors = load_ptvectors('./vectors.npy')\n",
    "\n",
    "train_datafeeder = DataProcessor(vocab , trainx,trainy, [min_v,max_v])\n",
    "test_datafeeder  = DataProcessor(vocab , testx,testy, [min_v,max_v])"
   ]
  },
  {
   "cell_type": "code",
   "execution_count": null,
   "metadata": {},
   "outputs": [],
   "source": [
    "model = ConvProtein(vectors,lr=5e-5,use_cuda=False)\n",
    "#model = model.to('cpu')"
   ]
  },
  {
   "cell_type": "code",
   "execution_count": null,
   "metadata": {},
   "outputs": [],
   "source": [
    "for i in trange(3001):\n",
    "    x,y = train_datafeeder.sample(100)\n",
    "    model.updates(x,y)\n",
    "    if i% 100 == 0:\n",
    "        predictions , trues = [] , []\n",
    "        for testx,testy in test_datafeeder.export(10 , 100):\n",
    "            preds = model.predicts(testx)\n",
    "            predictions.extend(preds)\n",
    "            trues.extend(testy)\n",
    "        perf = np.corrcoef(predictions,trues)[0,1]\n",
    "        print('correlation on test dataset is ',perf)\n"
   ]
  },
  {
   "cell_type": "code",
   "execution_count": null,
   "metadata": {},
   "outputs": [],
   "source": []
  }
 ],
 "metadata": {
  "kernelspec": {
   "display_name": "base",
   "language": "python",
   "name": "python3"
  },
  "language_info": {
   "codemirror_mode": {
    "name": "ipython",
    "version": 3
   },
   "file_extension": ".py",
   "mimetype": "text/x-python",
   "name": "python",
   "nbconvert_exporter": "python",
   "pygments_lexer": "ipython3",
   "version": "3.7.13"
  },
  "orig_nbformat": 4,
  "vscode": {
   "interpreter": {
    "hash": "3d597f4c481aa0f25dceb95d2a0067e73c0966dcbd003d741d821a7208527ecf"
   }
  }
 },
 "nbformat": 4,
 "nbformat_minor": 2
}
